{
 "cells": [
  {
   "cell_type": "code",
   "execution_count": 1,
   "metadata": {},
   "outputs": [],
   "source": [
    "using CSV\n",
    "using Plots\n",
    "using DataFrames\n",
    "\n",
    "include(\"Grid.jl\")\n",
    "using .Grid\n",
    "\n",
    "include(\"Density.jl\")\n",
    "using .Density\n",
    "\n",
    "include(\"Process_Quantum_Numbers.jl\")\n",
    "using .Process_Quantum_Numbers\n",
    "\n",
    "include(\"Atomic_Schrodinger_Equation.jl\")\n",
    "using .Atomic_Schrodinger_Equation: Atomic_Schrodinger_Equation as  ASE\n",
    "\n",
    "include(\"Density_Dependent_Atomic_potentials.jl\")\n",
    "using .Density_Dependent_Atomic_potentials: Density_Dependent_Atomic_potentials as DDAP\n",
    "include(\"Atomic_Poisson_Equation_Integral_Form.jl\")\n",
    "using .Atomic_Poisson_Equation_Integral_Form: Atomic_Poisson_Equation_Integral_Form as APEIF\n",
    "\n",
    "include(\"Hydrogen.jl\")\n",
    "using .Hydrogen\n"
   ]
  },
  {
   "cell_type": "code",
   "execution_count": 1,
   "metadata": {},
   "outputs": [
    {
     "data": {
      "text/plain": [
       "4-element Vector{Int64}:\n",
       " 0\n",
       " 1\n",
       " 2\n",
       " 3"
      ]
     },
     "execution_count": 1,
     "metadata": {},
     "output_type": "execute_result"
    }
   ],
   "source": [
    "out= [i for i=0:3]"
   ]
  },
  {
   "cell_type": "code",
   "execution_count": null,
   "metadata": {},
   "outputs": [],
   "source": []
  },
  {
   "cell_type": "code",
   "execution_count": 2,
   "metadata": {},
   "outputs": [],
   "source": [
    "include(\"Utils.jl\")\n",
    "using .Utils"
   ]
  },
  {
   "cell_type": "code",
   "execution_count": 3,
   "metadata": {},
   "outputs": [],
   "source": [
    "\n",
    "config=Dict([\n",
    "    #space grid parameters\n",
    "    (\"r_max\",50.0),\n",
    "    #elements parameters\n",
    "    (\"Z\",14),\n",
    "    (\"Quantum_Numbers_file_path\",\"/home/arturo_hernandez/Desktop/physics_coding_projects/Data/Quantum_Numbers.csv\")\n",
    "]);\n",
    "quan_numb_df=DataFrame(CSV.File(config[\"Quantum_Numbers_file_path\"]));\n"
   ]
  },
  {
   "cell_type": "code",
   "execution_count": 4,
   "metadata": {},
   "outputs": [],
   "source": [
    "grid= Grid.NIST_exponential_grid(config[\"r_max\"], config[\"Z\"])\n",
    "#delta=0.001\n",
    "#grid=[delta*i for i in 1:10000]\n",
    "grid_sqrt= grid.^2.0\n",
    "grid_bwrd= reverse(grid)\n",
    "occupation_by_shell, n_by_shell, l_by_shell= Process_Quantum_Numbers.get_shells_occupations_and_quantum_numbers(config[\"Z\"], quan_numb_df);\n"
   ]
  },
  {
   "cell_type": "code",
   "execution_count": 6,
   "metadata": {},
   "outputs": [
    {
     "data": {
      "text/plain": [
       "8204"
      ]
     },
     "execution_count": 6,
     "metadata": {},
     "output_type": "execute_result"
    }
   ],
   "source": [
    "size(grid)[1]"
   ]
  },
  {
   "cell_type": "code",
   "execution_count": 5,
   "metadata": {},
   "outputs": [
    {
     "name": "stdout",
     "output_type": "stream",
     "text": [
      "[-98.0, -24.5, -24.5, -10.88888888888889, -10.88888888888889]"
     ]
    }
   ],
   "source": [
    "Z=config[\"Z\"]\n",
    "eigen_guesses= [-0.5*(Float64(config[\"Z\"])^2.0)/((n)^2.0) for n in n_by_shell];\n",
    "print(eigen_guesses)"
   ]
  },
  {
   "cell_type": "code",
   "execution_count": 6,
   "metadata": {},
   "outputs": [],
   "source": [
    "N=size(grid)[1]\n",
    "N_search=15\n",
    "density_in= zeros(Float64, N)\n",
    "v_h= zeros(Float64, N)\n",
    "v_x= zeros(Float64, N)\n",
    "v_c= zeros(Float64, N)\n",
    "E_total=1.0\n",
    "E_total_before=2.0;"
   ]
  },
  {
   "cell_type": "code",
   "execution_count": 7,
   "metadata": {},
   "outputs": [
    {
     "data": {
      "text/plain": [
       "0"
      ]
     },
     "execution_count": 7,
     "metadata": {},
     "output_type": "execute_result"
    }
   ],
   "source": [
    "step=0"
   ]
  },
  {
   "cell_type": "code",
   "execution_count": 8,
   "metadata": {},
   "outputs": [
    {
     "name": "stdout",
     "output_type": "stream",
     "text": [
      "C_in 3.5000000000000004\n",
      "C_out 14.000000000000002\n",
      "eigen [-98.00008670506408, -24.500021675913676, -24.500007225535548, -10.888898522478927, -10.888894240652897]\n",
      "E_hartree 13.288800850782732\n",
      "E_xc -4.384476676476511\n",
      "E_total -447.4349263639927\n",
      "step 1\n",
      "************************************\n",
      "C_in 6.124999999999999\n",
      "C_out 14.000000000000002\n",
      "eigen [-89.08904398623564, -18.715750698498077, -18.132765907508073, -7.445490467531118, -7.229003853779885]\n",
      "E_hartree 38.418320753956216\n",
      "E_xc -8.87014420174198\n",
      "E_total -389.3137480825583\n",
      "step 2\n",
      "************************************\n",
      "C_in 8.09375\n",
      "C_out 14.000000000000002\n",
      "eigen [-81.12204822925388, -14.165213942584474, -13.14311099745142, -5.030610851629525, -4.697398464286835]\n",
      "E_hartree 63.490188341476404\n",
      "E_xc -12.312734252282086\n",
      "E_total -348.40557015237994\n",
      "step 3\n",
      "************************************\n",
      "C_in 9.570312499999998\n",
      "C_out 13.999999999999998\n",
      "eigen [-75.60589131601672, -11.054237112018336, -9.775648739283985, -3.444624940937799, -3.0733424148323696]\n",
      "E_hartree 84.15942748589192\n",
      "E_xc -14.758963431591537\n",
      "E_total -324.4039844485966\n",
      "step 4\n",
      "************************************\n",
      "C_in 10.677734375000002\n",
      "C_out 13.999999999999998\n",
      "eigen [-71.90075753535505, -8.964645113801954, -7.5444148894003025, -2.4092730729004503, -2.5703818669568688]\n",
      "E_hartree 100.42378797688866\n",
      "E_xc -16.504130695732158\n",
      "E_total -312.050402596883\n",
      "step 5\n",
      "************************************\n",
      "C_in 11.50830078125\n",
      "C_out 13.999999999999996\n",
      "eigen [-69.35305916600079, -7.506300383265895, -6.009278085581289, -1.7038682509622451, -1.450316916115839]\n",
      "E_hartree 111.29173539307051\n",
      "E_xc -17.594204278312592\n",
      "E_total -301.6920548811478\n",
      "step 6\n",
      "************************************\n"
     ]
    },
    {
     "ename": "LoadError",
     "evalue": "BoundsError: attempt to access 8-element Vector{Any} at index [9:10]",
     "output_type": "error",
     "traceback": [
      "BoundsError: attempt to access 8-element Vector{Any} at index [9:10]",
      "",
      "Stacktrace:",
      " [1] throw_boundserror(A::Vector{Any}, I::Tuple{UnitRange{Int64}})",
      "   @ Base ./abstractarray.jl:703",
      " [2] checkbounds",
      "   @ ./abstractarray.jl:668 [inlined]",
      " [3] getindex(A::Vector{Any}, I::UnitRange{Int64})",
      "   @ Base ./array.jl:930",
      " [4] top-level scope",
      "   @ ./In[8]:26",
      " [5] eval",
      "   @ ./boot.jl:368 [inlined]",
      " [6] include_string(mapexpr::typeof(REPL.softscope), mod::Module, code::String, filename::String)",
      "   @ Base ./loading.jl:1428"
     ]
    }
   ],
   "source": [
    "\n",
    "while abs(E_total - E_total_before) > 10.0e-8\n",
    "    eigen_interval_by_shell=[]\n",
    "    Ea=0.0\n",
    "    Ep=0.0\n",
    "    for (i_shell,l) in enumerate(l_by_shell)\n",
    "        i_guess= eigen_guesses[i_shell]\n",
    "        delta= 0.05*abs(i_guess)\n",
    "        start= i_guess - delta\n",
    "        Ea=float(start)\n",
    "        _, _, _, ua, _= ASE.integrate_SE(grid,grid_bwrd,v_h,v_x,v_c,l,Z,Ea);\n",
    "        for n in 1:N_search\n",
    "            Ep=start + n*delta\n",
    "            _, _, _, up, _= ASE.integrate_SE(grid,grid_bwrd,v_h,v_x,v_c,l,Z,Ep);\n",
    "            if Integer(sign(ua)) != Integer(sign(up))\n",
    "                append!(eigen_interval_by_shell, (Ea,Ep))\n",
    "                break\n",
    "            end\n",
    "            Ea= float(Ep)\n",
    "            ua= float(up)\n",
    "        end\n",
    "    end\n",
    "\n",
    "    temp_u_basis_set=Matrix{Dict{String, Any}}(undef, length(l_by_shell),5)\n",
    "    for (i_shell,l) in enumerate(l_by_shell)\n",
    "        nodes=eigen_interval_by_shell[(2*i_shell -1):(2*i_shell)]\n",
    "        u, ub, uf, node, E= ASE.illinois_eigen_finder(nodes,grid,grid_bwrd,v_h,v_x,v_c,l,Z);\n",
    "        #println(\"l \", l)\n",
    "        #println(\"E \", E)\n",
    "        #println(\"node \", node)\n",
    "        #display(plot(grid[node:node+1000],ub[node:node+1000]))\n",
    "        #display(plot(grid[1:node+100],uf[1:node+100]))\n",
    "        #display(plot(grid[10:7500],u[10:7500]))\n",
    "        eigen_guesses[i_shell]=float(E)\n",
    "        #display(plot(grid,u))\n",
    "        temp_u_basis_set[i_shell]= Dict([(\"E\",E),(\"Z\",Z),(\"u\",u),(\"l\",l),(\"occu\",occupation_by_shell[i_shell])]);\n",
    "    end\n",
    "\n",
    "    density_out= Density.calculate_density(grid, temp_u_basis_set);\n",
    "    density_in= Density.linear_mixing(density_in, density_out, alpha=0.25);\n",
    "    v_h, v_x, E_x, v_c, E_c= DDAP.density_potentials(grid, density_in, Z);\n",
    "\n",
    "    #v_xp= 4.0*pi*(Utils.integral(grid, (v_x.*density_in.*grid_sqrt)))\n",
    "\n",
    "    #v_cp= 4.0*pi*(Utils.integral(grid, (v_c.*density_in.*grid_sqrt)))\n",
    "\n",
    "    v_xc= v_x .+ v_c;\n",
    "    v_xc= 4.0*pi*(Utils.integral(grid, (v_xc.*density_in.*grid_sqrt)))\n",
    "    E_hartree= 0.5*4.0*pi*(Utils.integral(grid, (v_h.*density_in.*grid_sqrt)))\n",
    "    E_x= 4.0*pi*(Utils.integral(grid, (E_x.*density_in.*grid_sqrt)))\n",
    "    E_c= 4.0*pi*(Utils.integral(grid, (E_c.*density_in.*grid_sqrt)))\n",
    "\n",
    "\n",
    "    E_total_before= float(E_total)\n",
    "    E_total=0.0\n",
    "    E_eigen=0.0\n",
    "    for i in axes(temp_u_basis_set,1)\n",
    "        E_eigen += temp_u_basis_set[i][\"E\"]*temp_u_basis_set[i][\"occu\"]\n",
    "\n",
    "        #uu= temp_u_basis_set[i][\"u\"].^2.0\n",
    "        #display(plot(grid[1:7000],[uu[1:7000],temp_u_basis_set[i][\"u\"][1:7000]]))\n",
    "    end    \n",
    "    step+=1\n",
    "    C_in= Utils.integral(grid,(4.0.*pi.*density_in.*grid.^2))\n",
    "    C_out= Utils.integral(grid,(4.0.*pi.*density_out.*grid.^2))\n",
    "    E_total= E_eigen - E_hartree + E_x + E_c - v_xc\n",
    "    println(\"C_in \", C_in)\n",
    "    println(\"C_out \", C_out)\n",
    "    println(\"eigen \", eigen_guesses)\n",
    "    println(\"E_hartree \", E_hartree)\n",
    "    println(\"E_xc \", (E_c + E_x))\n",
    "    println(\"E_total \", E_total)\n",
    "    println(\"step \", step)\n",
    "    println(\"************************************\")\n",
    "end\n"
   ]
  },
  {
   "cell_type": "code",
   "execution_count": null,
   "metadata": {},
   "outputs": [],
   "source": []
  },
  {
   "cell_type": "code",
   "execution_count": null,
   "metadata": {},
   "outputs": [],
   "source": []
  },
  {
   "cell_type": "code",
   "execution_count": null,
   "metadata": {},
   "outputs": [],
   "source": []
  },
  {
   "cell_type": "code",
   "execution_count": null,
   "metadata": {},
   "outputs": [],
   "source": []
  },
  {
   "cell_type": "code",
   "execution_count": null,
   "metadata": {},
   "outputs": [],
   "source": []
  },
  {
   "cell_type": "code",
   "execution_count": 9,
   "metadata": {},
   "outputs": [],
   "source": []
  }
 ],
 "metadata": {
  "kernelspec": {
   "display_name": "Julia 1.8.2",
   "language": "julia",
   "name": "julia-1.8"
  },
  "language_info": {
   "file_extension": ".jl",
   "mimetype": "application/julia",
   "name": "julia",
   "version": "1.8.2"
  }
 },
 "nbformat": 4,
 "nbformat_minor": 4
}
